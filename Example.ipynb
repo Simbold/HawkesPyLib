{
 "cells": [
  {
   "cell_type": "code",
   "execution_count": 33,
   "metadata": {},
   "outputs": [],
   "source": [
    "import sys\n",
    "sys.path.insert(0, \"/home/fox/py_projects/HawkesPyLib/LibTest\")\n",
    "from HawkesPyLib.simulation import ApproxPowerlawHawkesProcessSimulation\n",
    "from HawkesPyLib.inference import ApproxPowlawHawkesProcessEstimation\n",
    "from HawkesPyLib.inference import qq_plot_unit_exponential\n",
    "import numpy as np\n",
    "from scipy import stats"
   ]
  },
  {
   "cell_type": "code",
   "execution_count": 16,
   "metadata": {},
   "outputs": [],
   "source": [
    "# Initilize the simulator with some example parameters:\n",
    "\n",
    "mu = 2.5\n",
    "eta = 0.8\n",
    "alpha = 0.4\n",
    "tau0 = 0.1\n",
    "m = 5.0\n",
    "M = 5\n",
    "PowlawSimulator = ApproxPowerlawHawkesProcessSimulation(\"powlaw-cutoff\", mu, eta, alpha, tau0, m, M)"
   ]
  },
  {
   "cell_type": "code",
   "execution_count": 24,
   "metadata": {},
   "outputs": [
    {
     "name": "stdout",
     "output_type": "stream",
     "text": [
      "48598 timestamps were simulated\n"
     ]
    }
   ],
   "source": [
    "# simulate timestamps\n",
    "timestamps = PowlawSimulator.simulate(T=100.0)\n",
    "\n",
    "# if needed change one of the parameter attributes:\n",
    "mu = 25.0\n",
    "PowlawSimulator.mu = mu\n",
    "timestamps = PowlawSimulator.simulate(T=400.0)\n",
    "print(f\"{PowlawSimulator.n_jumps} timestamps were simulated\")\n"
   ]
  },
  {
   "cell_type": "code",
   "execution_count": 25,
   "metadata": {},
   "outputs": [],
   "source": [
    "# Initilize the Estimator class\n",
    "PowlawEstimator = ApproxPowlawHawkesProcessEstimation(\"powlaw-cutoff\", m=5.0, M=5)\n",
    "\n",
    "# Estimate paramters\n",
    "PowlawEstimator.estimate(timestamps, T=timestamps[-1])\n",
    "mu_hat, eta_hat, alpha_hat, tau0_hat = PowlawEstimator.mu, PowlawEstimator.eta, PowlawEstimator.alpha, PowlawEstimator.tau0\n",
    "\n"
   ]
  },
  {
   "cell_type": "code",
   "execution_count": 26,
   "metadata": {},
   "outputs": [
    {
     "name": "stdout",
     "output_type": "stream",
     "text": [
      "Estimated mu: 24.78, vs. simulated mu: 25.0\n",
      "Estimated mu: 0.81, vs. simulated mu: 0.8\n",
      "Estimated mu: 0.37, vs. simulated mu: 0.4\n",
      "Estimated mu: 0.09, vs. simulated mu: 0.1\n"
     ]
    }
   ],
   "source": [
    "print(f\"Estimated mu: {mu_hat:.2f}, vs. simulated mu: {mu}\")\n",
    "print(f\"Estimated mu: {eta_hat:.2f}, vs. simulated mu: {eta}\")\n",
    "print(f\"Estimated mu: {alpha_hat:.2f}, vs. simulated mu: {alpha}\")\n",
    "print(f\"Estimated mu: {tau0_hat:.2f}, vs. simulated mu: {tau0}\")"
   ]
  },
  {
   "cell_type": "code",
   "execution_count": 32,
   "metadata": {},
   "outputs": [
    {
     "data": {
      "image/png": "[encoded data removed]",
      "text/plain": [
       "<Figure size 432x288 with 1 Axes>"
      ]
     },
     "metadata": {
      "needs_background": "light"
     },
     "output_type": "display_data"
    }
   ],
   "source": [
    "# compute the corresponding compensator:\n",
    "compensator_timestamps = PowlawEstimator.compensator()\n",
    "\n",
    "# plot a QQ-plot for the inter-arrival times of the compensator\n",
    "# The inter-arrival times of the compensator should be unit exponentially distributed if the sample \n",
    "durations = np.diff(compensator_timestamps) # inter-arrival times are also called duration times\n",
    "qq_plot_unit_exponential(durations)"
   ]
  },
  {
   "cell_type": "code",
   "execution_count": 34,
   "metadata": {},
   "outputs": [
    {
     "name": "stdout",
     "output_type": "stream",
     "text": [
      "KstestResult(statistic=0.0022113185066767183, pvalue=0.9709764824174827)\n"
     ]
    }
   ],
   "source": [
    "# check if durations are indeed exponentially distributed using scipies KS-test\n",
    "\n",
    "ks_test = stats.kstest(durations, \"expon\", alternative=\"two-sided\")\n",
    "\n",
    "# The null Hypothesis that the durations are from the expoential distribution cannot be rejected\n",
    "print(ks_test)"
   ]
  },
  {
   "cell_type": "code",
   "execution_count": null,
   "metadata": {},
   "outputs": [],
   "source": []
  }
 ],
 "metadata": {
  "kernelspec": {
   "display_name": "Python 3.10.4 ('PyHawkesLib')",
   "language": "python",
   "name": "python3"
  },
  "language_info": {
   "codemirror_mode": {
    "name": "ipython",
    "version": 3
   },
   "file_extension": ".py",
   "mimetype": "text/x-python",
   "name": "python",
   "nbconvert_exporter": "python",
   "pygments_lexer": "ipython3",
   "version": "3.10.4"
  },
  "orig_nbformat": 4,
  "vscode": {
   "interpreter": {
    "hash": "de72f977a13287dc6c7ca3242990bd6a3934b5057bed9afb56657fab6f0b800c"
   }
  }
 },
 "nbformat": 4,
 "nbformat_minor": 2
}
